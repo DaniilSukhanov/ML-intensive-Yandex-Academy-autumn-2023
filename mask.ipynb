{
 "cells": [
  {
   "cell_type": "code",
   "execution_count": 1,
   "outputs": [],
   "source": [
    "import datetime\n",
    "\n",
    "import torch\n",
    "import random\n",
    "\n",
    "\n",
    "# устанавливаем seed, чтобы результаты не изменялись при не изменение чего-либо\n",
    "torch.manual_seed(666)\n",
    "random.seed(666)"
   ],
   "metadata": {
    "collapsed": false,
    "ExecuteTime": {
     "end_time": "2023-12-18T18:06:10.024675Z",
     "start_time": "2023-12-18T18:06:08.817668Z"
    }
   },
   "id": "70c1aed05d7dbf71"
  },
  {
   "cell_type": "code",
   "execution_count": 2,
   "id": "initial_id",
   "metadata": {
    "collapsed": true,
    "ExecuteTime": {
     "end_time": "2023-12-18T18:06:10.842795Z",
     "start_time": "2023-12-18T18:06:10.023798Z"
    }
   },
   "outputs": [],
   "source": [
    "from support_module import ImageToNumDataset, NoMaskModel"
   ]
  },
  {
   "cell_type": "code",
   "execution_count": 3,
   "outputs": [
    {
     "data": {
      "text/plain": "device(type='mps', index=0)"
     },
     "execution_count": 3,
     "metadata": {},
     "output_type": "execute_result"
    }
   ],
   "source": [
    "import torch\n",
    "DEVICE = torch.device(\"cuda\" if torch.cuda.is_available() else \"mps:0\" if torch.backends.mps.is_available() else \"cpu\")\n",
    "DEVICE"
   ],
   "metadata": {
    "collapsed": false,
    "ExecuteTime": {
     "end_time": "2023-12-18T18:06:10.897404Z",
     "start_time": "2023-12-18T18:06:10.892330Z"
    }
   },
   "id": "b2acdf1950fed443"
  },
  {
   "cell_type": "code",
   "execution_count": 4,
   "outputs": [],
   "source": [
    "import torch\n",
    "from torchvision.transforms.v2 import ToDtype, Normalize, Compose, PILToTensor\n",
    "\n",
    "transform = Compose([\n",
    "    PILToTensor(),\n",
    "    ToDtype(torch.float32, scale=True),\n",
    "    Normalize((0.5,), (0.5,))\n",
    "])"
   ],
   "metadata": {
    "collapsed": false,
    "ExecuteTime": {
     "end_time": "2023-12-18T18:06:10.910222Z",
     "start_time": "2023-12-18T18:06:10.895188Z"
    }
   },
   "id": "92567a6e2f7c9ed"
  },
  {
   "cell_type": "code",
   "execution_count": 5,
   "outputs": [],
   "source": [
    "dataset = ImageToNumDataset(\"data/train_images_after_model\", answers_file=\"data/train_answers.csv\", transform=transform)"
   ],
   "metadata": {
    "collapsed": false,
    "ExecuteTime": {
     "end_time": "2023-12-18T18:06:11.072087Z",
     "start_time": "2023-12-18T18:06:10.911955Z"
    }
   },
   "id": "4c0d528f745d5416"
  },
  {
   "cell_type": "code",
   "execution_count": 6,
   "outputs": [],
   "source": [
    "from torch.utils.data import DataLoader, random_split\n",
    "\n",
    "train_dataset, validation_dataset = random_split(dataset, (0.8, 0.2))\n",
    "\n",
    "train_dataloader = DataLoader(train_dataset, batch_size=2**5, shuffle=True)\n",
    "validation_dataloader = DataLoader(validation_dataset, batch_size=2**5, shuffle=False)"
   ],
   "metadata": {
    "collapsed": false,
    "ExecuteTime": {
     "end_time": "2023-12-18T18:06:11.080717Z",
     "start_time": "2023-12-18T18:06:11.073146Z"
    }
   },
   "id": "6ff78bcecf5d1461"
  },
  {
   "cell_type": "code",
   "execution_count": 7,
   "outputs": [],
   "source": [
    "model = NoMaskModel()\n",
    "model = model.to(DEVICE)\n",
    "# model.load_state_dict(torch.load(\"models/model.pt\"))"
   ],
   "metadata": {
    "collapsed": false,
    "ExecuteTime": {
     "end_time": "2023-12-18T18:06:11.453764Z",
     "start_time": "2023-12-18T18:06:11.080297Z"
    }
   },
   "id": "6a7ad10130281076"
  },
  {
   "cell_type": "code",
   "execution_count": 8,
   "outputs": [],
   "source": [
    "from torch import nn, optim\n",
    "\n",
    "criterion = nn.CrossEntropyLoss()\n",
    "optimizer = optim.Adam(model.parameters(), lr=1e-5)"
   ],
   "metadata": {
    "collapsed": false,
    "ExecuteTime": {
     "end_time": "2023-12-18T18:06:11.459127Z",
     "start_time": "2023-12-18T18:06:11.453124Z"
    }
   },
   "id": "56276a7277848d65"
  },
  {
   "cell_type": "code",
   "execution_count": 8,
   "outputs": [],
   "source": [],
   "metadata": {
    "collapsed": false,
    "ExecuteTime": {
     "end_time": "2023-12-18T18:06:11.459373Z",
     "start_time": "2023-12-18T18:06:11.455959Z"
    }
   },
   "id": "ba2a87d5be33d952"
  },
  {
   "cell_type": "code",
   "execution_count": 9,
   "outputs": [],
   "source": [
    "from ignite.metrics import Accuracy, Loss\n",
    "from ignite.engine import create_supervised_trainer, create_supervised_evaluator\n",
    "\n",
    "trainer = create_supervised_trainer(model, optimizer, criterion, device=DEVICE)\n",
    "evaluator = create_supervised_evaluator(model, metrics={'accuracy': Accuracy(), 'nll': Loss(criterion)}, device=DEVICE)"
   ],
   "metadata": {
    "collapsed": false,
    "ExecuteTime": {
     "end_time": "2023-12-18T18:06:11.714783Z",
     "start_time": "2023-12-18T18:06:11.461549Z"
    }
   },
   "id": "124ae499ac32c1cc"
  },
  {
   "cell_type": "code",
   "execution_count": 10,
   "outputs": [],
   "source": [
    "# Сбор потерь и метрик для построения графиков\n",
    "train_loss_values = []\n",
    "validation_loss_values = []\n",
    "validation_accuracy_values = []"
   ],
   "metadata": {
    "collapsed": false,
    "ExecuteTime": {
     "end_time": "2023-12-18T18:06:11.717077Z",
     "start_time": "2023-12-18T18:06:11.715029Z"
    }
   },
   "id": "cdb25116c5ca23a1"
  },
  {
   "cell_type": "code",
   "execution_count": 11,
   "outputs": [],
   "source": [
    "import logging\n",
    "\n",
    "\n",
    "logging.basicConfig(level=logging.INFO)\n",
    "logger = logging.getLogger()\n",
    "logging.getLogger(\"ignite.engine.engine.Engine\").setLevel(logging.WARNING)"
   ],
   "metadata": {
    "collapsed": false,
    "ExecuteTime": {
     "end_time": "2023-12-18T18:06:11.721710Z",
     "start_time": "2023-12-18T18:06:11.717303Z"
    }
   },
   "id": "a5f6d77d640e91a1"
  },
  {
   "cell_type": "code",
   "execution_count": 12,
   "outputs": [],
   "source": [
    "EPOCHS = 50"
   ],
   "metadata": {
    "collapsed": false,
    "ExecuteTime": {
     "end_time": "2023-12-18T18:06:11.722361Z",
     "start_time": "2023-12-18T18:06:11.719107Z"
    }
   },
   "id": "9d42f86d6a268bd9"
  },
  {
   "cell_type": "code",
   "execution_count": 13,
   "outputs": [],
   "source": [
    "from ignite.engine import Events\n",
    "\n",
    "\n",
    "@trainer.on(Events.EPOCH_STARTED)\n",
    "def log_training_start(engine):\n",
    "    logging.info(f\"Starting learning at epoch {engine.state.epoch} in {datetime.datetime.now()}\")\n",
    "\n",
    "\n",
    "# @trainer.on(Events.EPOCH_COMPLETED)\n",
    "def log_training_results(engine):\n",
    "    logging.info(f\"End learning at epoch {engine.state.epoch} in {datetime.datetime.now()}\")\n",
    "    # Запуск оценки модели на обучающем наборе данных\n",
    "    evaluator.run(train_dataloader)\n",
    "    metrics = evaluator.state.metrics\n",
    "    # Сбор и вывод средней точности и потерь на обучающем наборе\n",
    "    train_loss_values.append(metrics['nll'])\n",
    "    logging.info(\n",
    "        f\"Training Results - Epoch: {engine.state.epoch}  \"\n",
    "        f\"Avg accuracy: {metrics['accuracy']:.2f} \"\n",
    "        f\"Avg loss: {metrics['nll']:.2f}\"\n",
    "    )\n",
    "    \n",
    "@trainer.on(Events.EPOCH_COMPLETED)\n",
    "def log_validation_results(engine):\n",
    "    logging.info(f\"End learning at epoch {engine.state.epoch} in {datetime.datetime.now()}\")\n",
    "    logging.info(f\"Starting validation on epoch {engine.state.epoch}\")\n",
    "    # Запуск оценки модели на валидационном наборе данных\n",
    "    evaluator.run(validation_dataloader)\n",
    "    metrics = evaluator.state.metrics\n",
    "    # Сбор и вывод средней точности и потерь на валидационном наборе\n",
    "    validation_loss_values.append(metrics['nll'])\n",
    "    validation_accuracy_values.append(metrics['accuracy'])\n",
    "    logging.info(\n",
    "        f\"Validation Results - Epoch: {engine.state.epoch}  \"\n",
    "        f\"Avg accuracy: {metrics['accuracy']:.3f} \"\n",
    "        f\"Avg loss: {metrics['nll']:.3f}\"\n",
    "    )\n",
    "    logging.info(f\"End of validation on epoch {engine.state.epoch}\")\n",
    "    torch.save(model.state_dict(), \"models/model.pt\")"
   ],
   "metadata": {
    "collapsed": false,
    "ExecuteTime": {
     "end_time": "2023-12-18T18:06:11.727410Z",
     "start_time": "2023-12-18T18:06:11.725112Z"
    }
   },
   "id": "84b5ce8888cd671a"
  },
  {
   "cell_type": "code",
   "execution_count": null,
   "outputs": [
    {
     "name": "stderr",
     "output_type": "stream",
     "text": [
      "INFO:root:Starting learning at epoch 1 in 2023-12-18 21:06:11.726750\n",
      "INFO:root:End learning at epoch 1 in 2023-12-18 21:07:28.922474\n",
      "INFO:root:Starting validation on epoch 1\n",
      "INFO:root:Validation Results - Epoch: 1  Avg accuracy: 0.684 Avg loss: 0.866\n",
      "INFO:root:End of validation on epoch 1\n",
      "INFO:root:Starting learning at epoch 2 in 2023-12-18 21:07:43.096191\n",
      "INFO:root:End learning at epoch 2 in 2023-12-18 21:08:54.672925\n",
      "INFO:root:Starting validation on epoch 2\n",
      "INFO:root:Validation Results - Epoch: 2  Avg accuracy: 0.699 Avg loss: 0.852\n",
      "INFO:root:End of validation on epoch 2\n",
      "INFO:root:Starting learning at epoch 3 in 2023-12-18 21:09:07.390120\n",
      "INFO:root:End learning at epoch 3 in 2023-12-18 21:10:15.457439\n",
      "INFO:root:Starting validation on epoch 3\n",
      "INFO:root:Validation Results - Epoch: 3  Avg accuracy: 0.726 Avg loss: 0.829\n",
      "INFO:root:End of validation on epoch 3\n",
      "INFO:root:Starting learning at epoch 4 in 2023-12-18 21:10:28.163051\n",
      "INFO:root:End learning at epoch 4 in 2023-12-18 21:11:39.209318\n",
      "INFO:root:Starting validation on epoch 4\n",
      "INFO:root:Validation Results - Epoch: 4  Avg accuracy: 0.733 Avg loss: 0.822\n",
      "INFO:root:End of validation on epoch 4\n",
      "INFO:root:Starting learning at epoch 5 in 2023-12-18 21:11:52.360368\n"
     ]
    }
   ],
   "source": [
    "trainer.run(train_dataloader, max_epochs=EPOCHS)"
   ],
   "metadata": {
    "collapsed": false,
    "is_executing": true,
    "ExecuteTime": {
     "start_time": "2023-12-18T18:06:11.727220Z"
    }
   },
   "id": "232d9cbfec3d0e69"
  },
  {
   "cell_type": "code",
   "execution_count": null,
   "outputs": [],
   "source": [],
   "metadata": {
    "collapsed": false,
    "is_executing": true
   },
   "id": "3adf72d08684ec5b"
  },
  {
   "cell_type": "code",
   "execution_count": null,
   "outputs": [],
   "source": [
    "from matplotlib import pyplot as plt\n",
    "\n",
    "# Графики обучения\n",
    "plt.figure(figsize=(10, 5))\n",
    "plt.subplot(1, 2, 1)\n",
    "plt.plot(train_loss_values, label='Training Loss')\n",
    "plt.plot(validation_loss_values, label='Validation Loss')\n",
    "plt.xlabel('Epochs')\n",
    "plt.ylabel('Loss')\n",
    "plt.legend()\n",
    "\n",
    "plt.subplot(1, 2, 2)\n",
    "plt.plot(validation_accuracy_values, label='Validation Accuracy', color='red')\n",
    "plt.xlabel('Epochs')\n",
    "plt.ylabel('Accuracy')\n",
    "plt.legend()\n",
    "\n",
    "plt.tight_layout()\n",
    "plt.show()"
   ],
   "metadata": {
    "collapsed": false,
    "is_executing": true
   },
   "id": "cb1d0dbd6d4735aa"
  },
  {
   "cell_type": "code",
   "execution_count": null,
   "outputs": [],
   "source": [],
   "metadata": {
    "collapsed": false,
    "is_executing": true
   },
   "id": "5123afea665da494"
  },
  {
   "cell_type": "code",
   "execution_count": null,
   "outputs": [],
   "source": [
    "import torch\n",
    "import random\n",
    "\n",
    "\n",
    "# устанавливаем seed, чтобы результаты не изменялись при не изменение чего-либо\n",
    "torch.manual_seed(666)\n",
    "random.seed(666)\n",
    "\n",
    "DEVICE = torch.device(\"cuda\" if torch.cuda.is_available() else \"cpu\")\n",
    "\n",
    "test_model = NoMaskModel()\n",
    "test_model = test_model.to(DEVICE)\n",
    "test_model.load_state_dict(torch.load(\"models/model.pt\"))\n",
    "test_dataset = ImageToNumDataset(\"data/test_images\", transform=transform)"
   ],
   "metadata": {
    "collapsed": false,
    "is_executing": true
   },
   "id": "f336c2cc32c851fe"
  },
  {
   "cell_type": "code",
   "execution_count": null,
   "outputs": [],
   "source": [
    "import csv\n",
    "from IPython.display import clear_output\n",
    "\n",
    "test_model.eval()\n",
    "len_dataset = len(test_dataset)\n",
    "with open(\"answer.csv\", \"w\") as file:\n",
    "    writer = csv.writer(file, delimiter=\",\")\n",
    "    writer.writerow([\"id\", \"target_feature\"])\n",
    "    for index, image in enumerate(test_dataset):\n",
    "        with torch.no_grad():\n",
    "            pred_y = test_model(image.unsqueeze(0))\n",
    "        answer = max(((n, i) for i, n in enumerate(pred_y[0])), key=lambda x: x[0])[1]\n",
    "        writer.writerow([index, answer])\n",
    "        if index % 10 == 0 or index % 10 == 9:\n",
    "            print(f\"{(index / len_dataset) * 100:.2f}%\")\n",
    "print(\"100%\")"
   ],
   "metadata": {
    "collapsed": false,
    "is_executing": true
   },
   "id": "e5f69f0d8daecbd5"
  },
  {
   "cell_type": "code",
   "execution_count": null,
   "outputs": [],
   "source": [],
   "metadata": {
    "collapsed": false,
    "is_executing": true
   },
   "id": "d2eca2918f0d61d6"
  }
 ],
 "metadata": {
  "kernelspec": {
   "display_name": "Python 3",
   "language": "python",
   "name": "python3"
  },
  "language_info": {
   "codemirror_mode": {
    "name": "ipython",
    "version": 2
   },
   "file_extension": ".py",
   "mimetype": "text/x-python",
   "name": "python",
   "nbconvert_exporter": "python",
   "pygments_lexer": "ipython2",
   "version": "2.7.6"
  }
 },
 "nbformat": 4,
 "nbformat_minor": 5
}
