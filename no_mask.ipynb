{
 "cells": [
  {
   "cell_type": "code",
   "execution_count": 1,
   "id": "initial_id",
   "metadata": {
    "collapsed": true,
    "ExecuteTime": {
     "end_time": "2023-12-04T20:36:56.204856Z",
     "start_time": "2023-12-04T20:36:50.392087Z"
    }
   },
   "outputs": [],
   "source": [
    "from support_module import ImageToNumDataset, NoMaskModel"
   ]
  },
  {
   "cell_type": "code",
   "execution_count": 2,
   "outputs": [
    {
     "name": "stderr",
     "output_type": "stream",
     "text": [
      "/Users/daniilsuhanov/DataspellProjects/ML-intensive-Yandex-Academy-autumn-2023/venv/lib/python3.10/site-packages/torchvision/transforms/v2/_deprecated.py:43: UserWarning: The transform `ToTensor()` is deprecated and will be removed in a future release. Instead, please use `v2.Compose([v2.ToImage(), v2.ToDtype(torch.float32, scale=True)])`.\n",
      "  warnings.warn(\n"
     ]
    }
   ],
   "source": [
    "import torch\n",
    "from torchvision.transforms.v2 import ToTensor, ToDtype, Normalize, Compose\n",
    "\n",
    "transform = Compose([\n",
    "    ToTensor(),\n",
    "    ToDtype(torch.float32, scale=True),\n",
    "    Normalize((0.5,), (0.5,))\n",
    "])"
   ],
   "metadata": {
    "collapsed": false,
    "ExecuteTime": {
     "end_time": "2023-12-04T20:36:56.225589Z",
     "start_time": "2023-12-04T20:36:56.208337Z"
    }
   },
   "id": "92567a6e2f7c9ed"
  },
  {
   "cell_type": "code",
   "execution_count": 3,
   "outputs": [],
   "source": [
    "dataset = ImageToNumDataset(\"data/train_images\", answers_file=\"data/train_answers.csv\", transform=transform)"
   ],
   "metadata": {
    "collapsed": false,
    "ExecuteTime": {
     "end_time": "2023-12-04T20:36:56.400565Z",
     "start_time": "2023-12-04T20:36:56.225176Z"
    }
   },
   "id": "4c0d528f745d5416"
  },
  {
   "cell_type": "code",
   "execution_count": 4,
   "outputs": [],
   "source": [
    "from torch.utils.data import DataLoader, random_split\n",
    "\n",
    "train_dataset, validation_dataset = random_split(dataset, (0.8, 0.2))\n",
    "\n",
    "train_dataloader = DataLoader(train_dataset, batch_size=2**10, shuffle=True)\n",
    "validation_dataloader = DataLoader(validation_dataset, batch_size=2**10, shuffle=False)"
   ],
   "metadata": {
    "collapsed": false,
    "ExecuteTime": {
     "end_time": "2023-12-04T20:36:56.412930Z",
     "start_time": "2023-12-04T20:36:56.403632Z"
    }
   },
   "id": "6ff78bcecf5d1461"
  },
  {
   "cell_type": "code",
   "execution_count": 5,
   "outputs": [],
   "source": [
    "model = NoMaskModel()"
   ],
   "metadata": {
    "collapsed": false,
    "ExecuteTime": {
     "end_time": "2023-12-04T20:36:57.144204Z",
     "start_time": "2023-12-04T20:36:56.416587Z"
    }
   },
   "id": "6a7ad10130281076"
  },
  {
   "cell_type": "code",
   "execution_count": 6,
   "outputs": [],
   "source": [
    "from torch import nn, optim\n",
    "\n",
    "criterion = nn.CrossEntropyLoss()\n",
    "optimizer = optim.Adam(model.parameters(), lr=0.001)"
   ],
   "metadata": {
    "collapsed": false,
    "ExecuteTime": {
     "end_time": "2023-12-04T20:36:57.147448Z",
     "start_time": "2023-12-04T20:36:57.144581Z"
    }
   },
   "id": "56276a7277848d65"
  },
  {
   "cell_type": "code",
   "execution_count": 7,
   "outputs": [
    {
     "data": {
      "text/plain": "device(type='cpu')"
     },
     "execution_count": 7,
     "metadata": {},
     "output_type": "execute_result"
    }
   ],
   "source": [
    "DEVICE = torch.device(\"cuda\" if torch.cuda.is_available() else \"cpu\")\n",
    "DEVICE"
   ],
   "metadata": {
    "collapsed": false,
    "ExecuteTime": {
     "end_time": "2023-12-04T20:36:57.152724Z",
     "start_time": "2023-12-04T20:36:57.148739Z"
    }
   },
   "id": "ba2a87d5be33d952"
  },
  {
   "cell_type": "code",
   "execution_count": 8,
   "outputs": [],
   "source": [
    "from ignite.metrics import Accuracy, Loss\n",
    "from ignite.engine import create_supervised_trainer, create_supervised_evaluator\n",
    "\n",
    "trainer = create_supervised_trainer(model, optimizer, criterion, device=DEVICE)\n",
    "evaluator = create_supervised_evaluator(model, metrics={'accuracy': Accuracy(), 'nll': Loss(criterion)}, device=DEVICE)"
   ],
   "metadata": {
    "collapsed": false,
    "ExecuteTime": {
     "end_time": "2023-12-04T20:36:57.395359Z",
     "start_time": "2023-12-04T20:36:57.152525Z"
    }
   },
   "id": "124ae499ac32c1cc"
  },
  {
   "cell_type": "code",
   "execution_count": 9,
   "outputs": [],
   "source": [
    "# Сбор потерь и метрик для построения графиков\n",
    "train_loss_values = []\n",
    "validation_loss_values = []\n",
    "validation_accuracy_values = []"
   ],
   "metadata": {
    "collapsed": false,
    "ExecuteTime": {
     "end_time": "2023-12-04T20:36:57.398487Z",
     "start_time": "2023-12-04T20:36:57.394977Z"
    }
   },
   "id": "cdb25116c5ca23a1"
  },
  {
   "cell_type": "code",
   "execution_count": 10,
   "outputs": [],
   "source": [
    "import logging\n",
    "\n",
    "\n",
    "logging.basicConfig(level=logging.INFO)"
   ],
   "metadata": {
    "collapsed": false,
    "ExecuteTime": {
     "end_time": "2023-12-04T20:36:57.398915Z",
     "start_time": "2023-12-04T20:36:57.396728Z"
    }
   },
   "id": "a5f6d77d640e91a1"
  },
  {
   "cell_type": "code",
   "execution_count": 11,
   "outputs": [],
   "source": [
    "EPOCHS = 2\n",
    "EPOCHS_VALIDATION = 5"
   ],
   "metadata": {
    "collapsed": false,
    "ExecuteTime": {
     "end_time": "2023-12-04T20:36:57.401799Z",
     "start_time": "2023-12-04T20:36:57.399265Z"
    }
   },
   "id": "9d42f86d6a268bd9"
  },
  {
   "cell_type": "code",
   "execution_count": 12,
   "outputs": [],
   "source": [
    "from ignite.engine import Events\n",
    "\n",
    "\n",
    "@trainer.on(Events.EPOCH_COMPLETED)\n",
    "def log_training_results(engine):\n",
    "    # Запуск оценки модели на обучающем наборе данных\n",
    "    evaluator.run(train_dataloader)\n",
    "    metrics = evaluator.state.metrics\n",
    "    # Сбор и вывод средней точности и потерь на обучающем наборе\n",
    "    train_loss_values.append(metrics['nll'])\n",
    "    logging.info(\n",
    "        f\"Training Results - Epoch: {engine.state.epoch}  \"\n",
    "        f\"Avg accuracy: {metrics['accuracy']:.2f} \"\n",
    "        f\"Avg loss: {metrics['nll']:.2f}\"\n",
    "    )\n",
    "\n",
    "@trainer.on(Events.EPOCH_COMPLETED)\n",
    "def log_validation_results(engine):\n",
    "    logging.info(f\"Starting validation on epoch {engine.state.epoch}\")\n",
    "    # Запуск оценки модели на валидационном наборе данных\n",
    "    evaluator.run(validation_dataloader, max_epochs=EPOCHS_VALIDATION)\n",
    "    metrics = evaluator.state.metrics\n",
    "    # Сбор и вывод средней точности и потерь на валидационном наборе\n",
    "    validation_loss_values.append(metrics['nll'])\n",
    "    validation_accuracy_values.append(metrics['accuracy'])\n",
    "    logging.info(\n",
    "        f\"Validation Results - Epoch: {engine.state.epoch}  \"\n",
    "        f\"Avg accuracy: {metrics['accuracy']:.3f} \"\n",
    "        f\"Avg loss: {metrics['nll']:.3f}\"\n",
    "    )\n",
    "    logging.info(f\"End of validation on epoch {engine.state.epoch}\")"
   ],
   "metadata": {
    "collapsed": false,
    "ExecuteTime": {
     "end_time": "2023-12-04T20:36:57.409073Z",
     "start_time": "2023-12-04T20:36:57.403766Z"
    }
   },
   "id": "84b5ce8888cd671a"
  },
  {
   "cell_type": "code",
   "execution_count": null,
   "outputs": [
    {
     "name": "stderr",
     "output_type": "stream",
     "text": [
      "INFO:ignite.engine.engine.Engine:Engine run starting with max_epochs=2.\n",
      "INFO:root:Starting conv1...\n"
     ]
    }
   ],
   "source": [
    "trainer.run(train_dataloader, max_epochs=EPOCHS)"
   ],
   "metadata": {
    "collapsed": false,
    "is_executing": true,
    "ExecuteTime": {
     "start_time": "2023-12-04T20:36:57.408534Z"
    }
   },
   "id": "232d9cbfec3d0e69"
  },
  {
   "cell_type": "code",
   "execution_count": null,
   "outputs": [],
   "source": [
    "from matplotlib import pyplot as plt\n",
    "\n",
    "# Графики обучения\n",
    "plt.figure(figsize=(10, 5))\n",
    "plt.subplot(1, 2, 1)\n",
    "plt.plot(train_loss_values, label='Training Loss')\n",
    "plt.plot(validation_loss_values, label='Validation Loss')\n",
    "plt.xlabel('Epochs')\n",
    "plt.ylabel('Loss')\n",
    "plt.legend()\n",
    "\n",
    "plt.subplot(1, 2, 2)\n",
    "plt.plot(validation_accuracy_values, label='Validation Accuracy', color='red')\n",
    "plt.xlabel('Epochs')\n",
    "plt.ylabel('Accuracy')\n",
    "plt.legend()\n",
    "\n",
    "plt.tight_layout()\n",
    "plt.show()"
   ],
   "metadata": {
    "collapsed": false,
    "is_executing": true
   },
   "id": "cb1d0dbd6d4735aa"
  },
  {
   "cell_type": "code",
   "execution_count": null,
   "outputs": [],
   "source": [
    "model.eval()\n",
    "\n",
    "plt.figure(figsize=(15,4))\n",
    "# Смотрим результат обучения\n",
    "for i in range(20):\n",
    "    x, y_true = validation_dataset[i]\n",
    "    y_pred = torch.argmax(model(x.to(DEVICE)))\n",
    "    plt.subplot(2, 10, i + 1)\n",
    "    plt.imshow(x.permute(1, 2, 0) * 0.25 + 0.5)\n",
    "    plt.xticks([])\n",
    "    plt.yticks([])\n",
    "    class_to_idx = {value: key for key, value in validation_dataset.class_to_idx.items()}\n",
    "    plt.title(f'True = {class_to_idx[y_true]}\\nPred = {class_to_idx[y_pred.item()]}')\n",
    "\n",
    "plt.show()"
   ],
   "metadata": {
    "collapsed": false,
    "is_executing": true
   },
   "id": "5123afea665da494"
  }
 ],
 "metadata": {
  "kernelspec": {
   "display_name": "Python 3",
   "language": "python",
   "name": "python3"
  },
  "language_info": {
   "codemirror_mode": {
    "name": "ipython",
    "version": 2
   },
   "file_extension": ".py",
   "mimetype": "text/x-python",
   "name": "python",
   "nbconvert_exporter": "python",
   "pygments_lexer": "ipython2",
   "version": "2.7.6"
  }
 },
 "nbformat": 4,
 "nbformat_minor": 5
}
