{
 "cells": [
  {
   "cell_type": "code",
   "execution_count": 1,
   "outputs": [],
   "source": [
    "import datetime\n",
    "\n",
    "import torch\n",
    "import random\n",
    "\n",
    "\n",
    "# устанавливаем seed, чтобы результаты не изменялись при не изменение чего-либо\n",
    "torch.manual_seed(666)\n",
    "random.seed(666)"
   ],
   "metadata": {
    "collapsed": false,
    "ExecuteTime": {
     "end_time": "2023-12-19T16:09:03.542590Z",
     "start_time": "2023-12-19T16:09:02.204703Z"
    }
   },
   "id": "70c1aed05d7dbf71"
  },
  {
   "cell_type": "code",
   "execution_count": 2,
   "id": "initial_id",
   "metadata": {
    "collapsed": true,
    "ExecuteTime": {
     "end_time": "2023-12-19T16:09:04.398190Z",
     "start_time": "2023-12-19T16:09:03.541696Z"
    }
   },
   "outputs": [],
   "source": [
    "from support_module import ImageToNumDataset, NoMaskModel"
   ]
  },
  {
   "cell_type": "code",
   "execution_count": 3,
   "outputs": [
    {
     "data": {
      "text/plain": "device(type='mps', index=0)"
     },
     "execution_count": 3,
     "metadata": {},
     "output_type": "execute_result"
    }
   ],
   "source": [
    "import torch\n",
    "\n",
    "\n",
    "DEVICE = torch.device(\"cuda\" if torch.cuda.is_available() else \"mps:0\" if torch.backends.mps.is_available() else \"cpu\")\n",
    "DEVICE"
   ],
   "metadata": {
    "collapsed": false,
    "ExecuteTime": {
     "end_time": "2023-12-19T16:09:04.466034Z",
     "start_time": "2023-12-19T16:09:04.457180Z"
    }
   },
   "id": "b2acdf1950fed443"
  },
  {
   "cell_type": "code",
   "execution_count": 4,
   "outputs": [],
   "source": [
    "import torch\n",
    "from torchvision.transforms.v2 import ToDtype, Normalize, Compose, PILToTensor\n",
    "\n",
    "transform = Compose([\n",
    "    PILToTensor(),\n",
    "    ToDtype(torch.float32, scale=True),\n",
    "    Normalize((0.5,), (0.5,))\n",
    "])"
   ],
   "metadata": {
    "collapsed": false,
    "ExecuteTime": {
     "end_time": "2023-12-19T16:09:04.507406Z",
     "start_time": "2023-12-19T16:09:04.463064Z"
    }
   },
   "id": "92567a6e2f7c9ed"
  },
  {
   "cell_type": "code",
   "execution_count": 5,
   "outputs": [],
   "source": [
    "# Создание датасета \n",
    "dataset = ImageToNumDataset(\"data/train_images\", answers_file=\"data/train_answers.csv\", transform=transform)"
   ],
   "metadata": {
    "collapsed": false,
    "ExecuteTime": {
     "end_time": "2023-12-19T16:09:04.565534Z",
     "start_time": "2023-12-19T16:09:04.483613Z"
    }
   },
   "id": "4c0d528f745d5416"
  },
  {
   "cell_type": "code",
   "execution_count": 6,
   "outputs": [],
   "source": [
    "from torch.utils.data import DataLoader, random_split\n",
    "\n",
    "train_dataset, validation_dataset = random_split(dataset, (0.8, 0.2))\n",
    "\n",
    "train_dataloader = DataLoader(train_dataset, batch_size=2**5, shuffle=True)\n",
    "validation_dataloader = DataLoader(validation_dataset, batch_size=2**5, shuffle=False)"
   ],
   "metadata": {
    "collapsed": false,
    "ExecuteTime": {
     "end_time": "2023-12-19T16:09:04.569654Z",
     "start_time": "2023-12-19T16:09:04.562216Z"
    }
   },
   "id": "6ff78bcecf5d1461"
  },
  {
   "cell_type": "code",
   "execution_count": 7,
   "outputs": [],
   "source": [
    "model = NoMaskModel()\n",
    "model = model.to(DEVICE)\n",
    "# загрузка модели\n",
    "model.load_state_dict(torch.load(\"models/model.pt\"))"
   ],
   "metadata": {
    "collapsed": false,
    "ExecuteTime": {
     "end_time": "2023-12-19T16:09:04.914346Z",
     "start_time": "2023-12-19T16:09:04.570092Z"
    }
   },
   "id": "6a7ad10130281076"
  },
  {
   "cell_type": "code",
   "execution_count": 8,
   "outputs": [],
   "source": [
    "from torch import nn, optim\n",
    "\n",
    "criterion = nn.CrossEntropyLoss()\n",
    "optimizer = optim.Adam(model.parameters(), lr=1e-6)"
   ],
   "metadata": {
    "collapsed": false,
    "ExecuteTime": {
     "end_time": "2023-12-19T16:09:04.930587Z",
     "start_time": "2023-12-19T16:09:04.913277Z"
    }
   },
   "id": "56276a7277848d65"
  },
  {
   "cell_type": "code",
   "execution_count": 8,
   "outputs": [],
   "source": [],
   "metadata": {
    "collapsed": false,
    "ExecuteTime": {
     "end_time": "2023-12-19T16:09:04.931145Z",
     "start_time": "2023-12-19T16:09:04.923477Z"
    }
   },
   "id": "ba2a87d5be33d952"
  },
  {
   "cell_type": "code",
   "execution_count": 9,
   "outputs": [],
   "source": [
    "from ignite.metrics import Accuracy, Loss\n",
    "from ignite.engine import create_supervised_trainer, create_supervised_evaluator\n",
    "\n",
    "trainer = create_supervised_trainer(model, optimizer, criterion, device=DEVICE)\n",
    "evaluator = create_supervised_evaluator(model, metrics={'accuracy': Accuracy(), 'nll': Loss(criterion)}, device=DEVICE)"
   ],
   "metadata": {
    "collapsed": false,
    "ExecuteTime": {
     "end_time": "2023-12-19T16:09:05.352738Z",
     "start_time": "2023-12-19T16:09:04.932515Z"
    }
   },
   "id": "124ae499ac32c1cc"
  },
  {
   "cell_type": "code",
   "execution_count": 10,
   "outputs": [],
   "source": [
    "# Сбор потерь и метрик для построения графиков\n",
    "train_loss_values = []\n",
    "validation_loss_values = []\n",
    "validation_accuracy_values = []"
   ],
   "metadata": {
    "collapsed": false,
    "ExecuteTime": {
     "end_time": "2023-12-19T16:09:05.354138Z",
     "start_time": "2023-12-19T16:09:05.350420Z"
    }
   },
   "id": "cdb25116c5ca23a1"
  },
  {
   "cell_type": "code",
   "execution_count": 11,
   "outputs": [],
   "source": [
    "import logging\n",
    "\n",
    "\n",
    "logging.basicConfig(level=logging.INFO)\n",
    "logger = logging.getLogger()\n",
    "logging.getLogger(\"ignite.engine.engine.Engine\").setLevel(logging.WARNING)"
   ],
   "metadata": {
    "collapsed": false,
    "ExecuteTime": {
     "end_time": "2023-12-19T16:09:05.354253Z",
     "start_time": "2023-12-19T16:09:05.352260Z"
    }
   },
   "id": "a5f6d77d640e91a1"
  },
  {
   "cell_type": "code",
   "execution_count": 12,
   "outputs": [],
   "source": [
    "EPOCHS = 50"
   ],
   "metadata": {
    "collapsed": false,
    "ExecuteTime": {
     "end_time": "2023-12-19T16:09:05.354397Z",
     "start_time": "2023-12-19T16:09:05.353228Z"
    }
   },
   "id": "9d42f86d6a268bd9"
  },
  {
   "cell_type": "code",
   "execution_count": 13,
   "outputs": [],
   "source": [
    "from ignite.engine import Events\n",
    "\n",
    "\n",
    "@trainer.on(Events.EPOCH_STARTED)\n",
    "def log_training_start(engine):\n",
    "    logging.info(f\"Starting learning at epoch {engine.state.epoch} in {datetime.datetime.now()}\")\n",
    "    \n",
    "    \n",
    "@trainer.on(Events.EPOCH_COMPLETED)\n",
    "def log_validation_results(engine):\n",
    "    logging.info(f\"End learning at epoch {engine.state.epoch} in {datetime.datetime.now()}\")\n",
    "    logging.info(f\"Starting validation on epoch {engine.state.epoch}\")\n",
    "    # Запуск оценки модели на валидационном наборе данных\n",
    "    evaluator.run(validation_dataloader)\n",
    "    metrics = evaluator.state.metrics\n",
    "    # Сбор и вывод средней точности и потерь на валидационном наборе\n",
    "    validation_loss_values.append(metrics['nll'])\n",
    "    validation_accuracy_values.append(metrics['accuracy'])\n",
    "    logging.info(\n",
    "        f\"Validation Results - Epoch: {engine.state.epoch}  \"\n",
    "        f\"Avg accuracy: {metrics['accuracy']:.3f} \"\n",
    "        f\"Avg loss: {metrics['nll']:.3f}\"\n",
    "    )\n",
    "    logging.info(f\"End of validation on epoch {engine.state.epoch}\")\n",
    "    torch.save(model.state_dict(), \"models/model.pt\")"
   ],
   "metadata": {
    "collapsed": false,
    "ExecuteTime": {
     "end_time": "2023-12-19T16:09:05.365214Z",
     "start_time": "2023-12-19T16:09:05.360276Z"
    }
   },
   "id": "84b5ce8888cd671a"
  },
  {
   "cell_type": "code",
   "execution_count": 14,
   "outputs": [
    {
     "name": "stderr",
     "output_type": "stream",
     "text": [
      "INFO:root:Starting learning at epoch 1 in 2023-12-19 19:09:05.362824\n",
      "INFO:root:End learning at epoch 1 in 2023-12-19 19:09:52.804465\n",
      "INFO:root:Starting validation on epoch 1\n",
      "INFO:root:Validation Results - Epoch: 1  Avg accuracy: 0.611 Avg loss: 0.957\n",
      "INFO:root:End of validation on epoch 1\n",
      "INFO:root:Starting learning at epoch 2 in 2023-12-19 19:09:59.477476\n",
      "INFO:root:End learning at epoch 2 in 2023-12-19 19:10:45.890401\n",
      "INFO:root:Starting validation on epoch 2\n",
      "INFO:root:Validation Results - Epoch: 2  Avg accuracy: 0.616 Avg loss: 0.933\n",
      "INFO:root:End of validation on epoch 2\n",
      "INFO:root:Starting learning at epoch 3 in 2023-12-19 19:10:52.260261\n",
      "INFO:root:End learning at epoch 3 in 2023-12-19 19:11:38.466901\n",
      "INFO:root:Starting validation on epoch 3\n",
      "INFO:root:Validation Results - Epoch: 3  Avg accuracy: 0.635 Avg loss: 0.919\n",
      "INFO:root:End of validation on epoch 3\n",
      "INFO:root:Starting learning at epoch 4 in 2023-12-19 19:11:45.014078\n",
      "INFO:root:End learning at epoch 4 in 2023-12-19 19:12:35.766718\n",
      "INFO:root:Starting validation on epoch 4\n",
      "INFO:root:Validation Results - Epoch: 4  Avg accuracy: 0.639 Avg loss: 0.911\n",
      "INFO:root:End of validation on epoch 4\n",
      "INFO:root:Starting learning at epoch 5 in 2023-12-19 19:12:43.387191\n",
      "INFO:root:End learning at epoch 5 in 2023-12-19 19:13:32.379972\n",
      "INFO:root:Starting validation on epoch 5\n",
      "INFO:root:Validation Results - Epoch: 5  Avg accuracy: 0.636 Avg loss: 0.907\n",
      "INFO:root:End of validation on epoch 5\n",
      "INFO:root:Starting learning at epoch 6 in 2023-12-19 19:13:38.728582\n",
      "INFO:root:End learning at epoch 6 in 2023-12-19 19:14:24.737070\n",
      "INFO:root:Starting validation on epoch 6\n",
      "INFO:root:Validation Results - Epoch: 6  Avg accuracy: 0.640 Avg loss: 0.903\n",
      "INFO:root:End of validation on epoch 6\n",
      "INFO:root:Starting learning at epoch 7 in 2023-12-19 19:14:31.265025\n",
      "INFO:root:End learning at epoch 7 in 2023-12-19 19:15:19.489250\n",
      "INFO:root:Starting validation on epoch 7\n",
      "INFO:root:Validation Results - Epoch: 7  Avg accuracy: 0.644 Avg loss: 0.899\n",
      "INFO:root:End of validation on epoch 7\n",
      "INFO:root:Starting learning at epoch 8 in 2023-12-19 19:15:25.911666\n",
      "INFO:root:End learning at epoch 8 in 2023-12-19 19:16:15.418055\n",
      "INFO:root:Starting validation on epoch 8\n",
      "INFO:root:Validation Results - Epoch: 8  Avg accuracy: 0.643 Avg loss: 0.899\n",
      "INFO:root:End of validation on epoch 8\n",
      "INFO:root:Starting learning at epoch 9 in 2023-12-19 19:16:22.301652\n",
      "INFO:root:End learning at epoch 9 in 2023-12-19 19:17:07.497716\n",
      "INFO:root:Starting validation on epoch 9\n",
      "INFO:root:Validation Results - Epoch: 9  Avg accuracy: 0.651 Avg loss: 0.895\n",
      "INFO:root:End of validation on epoch 9\n",
      "INFO:root:Starting learning at epoch 10 in 2023-12-19 19:17:13.737636\n",
      "INFO:root:End learning at epoch 10 in 2023-12-19 19:17:58.812402\n",
      "INFO:root:Starting validation on epoch 10\n",
      "INFO:root:Validation Results - Epoch: 10  Avg accuracy: 0.652 Avg loss: 0.894\n",
      "INFO:root:End of validation on epoch 10\n",
      "INFO:root:Starting learning at epoch 11 in 2023-12-19 19:18:05.176671\n",
      "INFO:root:End learning at epoch 11 in 2023-12-19 19:18:50.283449\n",
      "INFO:root:Starting validation on epoch 11\n",
      "INFO:root:Validation Results - Epoch: 11  Avg accuracy: 0.654 Avg loss: 0.893\n",
      "INFO:root:End of validation on epoch 11\n",
      "INFO:root:Starting learning at epoch 12 in 2023-12-19 19:18:56.599656\n",
      "INFO:root:End learning at epoch 12 in 2023-12-19 19:19:42.491764\n",
      "INFO:root:Starting validation on epoch 12\n",
      "INFO:root:Validation Results - Epoch: 12  Avg accuracy: 0.653 Avg loss: 0.892\n",
      "INFO:root:End of validation on epoch 12\n",
      "INFO:root:Starting learning at epoch 13 in 2023-12-19 19:19:48.788783\n",
      "INFO:root:End learning at epoch 13 in 2023-12-19 19:20:34.466841\n",
      "INFO:root:Starting validation on epoch 13\n",
      "INFO:root:Validation Results - Epoch: 13  Avg accuracy: 0.657 Avg loss: 0.890\n",
      "INFO:root:End of validation on epoch 13\n",
      "INFO:root:Starting learning at epoch 14 in 2023-12-19 19:20:40.810979\n",
      "INFO:root:End learning at epoch 14 in 2023-12-19 19:21:26.463682\n",
      "INFO:root:Starting validation on epoch 14\n",
      "INFO:root:Validation Results - Epoch: 14  Avg accuracy: 0.652 Avg loss: 0.891\n",
      "INFO:root:End of validation on epoch 14\n",
      "INFO:root:Starting learning at epoch 15 in 2023-12-19 19:21:32.829996\n",
      "INFO:root:End learning at epoch 15 in 2023-12-19 19:22:21.955780\n",
      "INFO:root:Starting validation on epoch 15\n",
      "INFO:root:Validation Results - Epoch: 15  Avg accuracy: 0.653 Avg loss: 0.889\n",
      "INFO:root:End of validation on epoch 15\n",
      "INFO:root:Starting learning at epoch 16 in 2023-12-19 19:22:28.536704\n",
      "INFO:root:End learning at epoch 16 in 2023-12-19 19:23:19.153416\n",
      "INFO:root:Starting validation on epoch 16\n",
      "INFO:root:Validation Results - Epoch: 16  Avg accuracy: 0.656 Avg loss: 0.888\n",
      "INFO:root:End of validation on epoch 16\n",
      "INFO:root:Starting learning at epoch 17 in 2023-12-19 19:23:26.199415\n",
      "INFO:root:End learning at epoch 17 in 2023-12-19 19:24:19.881604\n",
      "INFO:root:Starting validation on epoch 17\n",
      "INFO:root:Validation Results - Epoch: 17  Avg accuracy: 0.658 Avg loss: 0.887\n",
      "INFO:root:End of validation on epoch 17\n",
      "INFO:root:Starting learning at epoch 18 in 2023-12-19 19:24:26.823703\n",
      "INFO:root:End learning at epoch 18 in 2023-12-19 19:25:18.574063\n",
      "INFO:root:Starting validation on epoch 18\n",
      "INFO:root:Validation Results - Epoch: 18  Avg accuracy: 0.655 Avg loss: 0.887\n",
      "INFO:root:End of validation on epoch 18\n",
      "INFO:root:Starting learning at epoch 19 in 2023-12-19 19:25:25.031286\n",
      "INFO:root:End learning at epoch 19 in 2023-12-19 19:26:16.151192\n",
      "INFO:root:Starting validation on epoch 19\n",
      "INFO:root:Validation Results - Epoch: 19  Avg accuracy: 0.655 Avg loss: 0.886\n",
      "INFO:root:End of validation on epoch 19\n",
      "INFO:root:Starting learning at epoch 20 in 2023-12-19 19:26:27.263269\n",
      "INFO:root:End learning at epoch 20 in 2023-12-19 19:27:13.130388\n",
      "INFO:root:Starting validation on epoch 20\n",
      "INFO:root:Validation Results - Epoch: 20  Avg accuracy: 0.658 Avg loss: 0.886\n",
      "INFO:root:End of validation on epoch 20\n",
      "INFO:root:Starting learning at epoch 21 in 2023-12-19 19:27:19.451080\n",
      "INFO:root:End learning at epoch 21 in 2023-12-19 19:28:05.442713\n",
      "INFO:root:Starting validation on epoch 21\n",
      "INFO:root:Validation Results - Epoch: 21  Avg accuracy: 0.658 Avg loss: 0.885\n",
      "INFO:root:End of validation on epoch 21\n",
      "INFO:root:Starting learning at epoch 22 in 2023-12-19 19:28:11.859535\n",
      "INFO:root:End learning at epoch 22 in 2023-12-19 19:28:58.816069\n",
      "INFO:root:Starting validation on epoch 22\n",
      "INFO:root:Validation Results - Epoch: 22  Avg accuracy: 0.659 Avg loss: 0.885\n",
      "INFO:root:End of validation on epoch 22\n",
      "INFO:root:Starting learning at epoch 23 in 2023-12-19 19:29:05.209292\n",
      "INFO:root:End learning at epoch 23 in 2023-12-19 19:29:52.085185\n",
      "INFO:root:Starting validation on epoch 23\n",
      "INFO:root:Validation Results - Epoch: 23  Avg accuracy: 0.659 Avg loss: 0.886\n",
      "INFO:root:End of validation on epoch 23\n",
      "INFO:root:Starting learning at epoch 24 in 2023-12-19 19:29:59.057731\n",
      "INFO:root:End learning at epoch 24 in 2023-12-19 19:30:48.074175\n",
      "INFO:root:Starting validation on epoch 24\n",
      "INFO:root:Validation Results - Epoch: 24  Avg accuracy: 0.658 Avg loss: 0.885\n",
      "INFO:root:End of validation on epoch 24\n",
      "INFO:root:Starting learning at epoch 25 in 2023-12-19 19:30:54.681576\n",
      "INFO:root:End learning at epoch 25 in 2023-12-19 19:31:43.312323\n",
      "INFO:root:Starting validation on epoch 25\n",
      "INFO:root:Validation Results - Epoch: 25  Avg accuracy: 0.659 Avg loss: 0.884\n",
      "INFO:root:End of validation on epoch 25\n",
      "INFO:root:Starting learning at epoch 26 in 2023-12-19 19:31:50.541040\n",
      "INFO:root:End learning at epoch 26 in 2023-12-19 19:32:38.638900\n",
      "INFO:root:Starting validation on epoch 26\n",
      "INFO:root:Validation Results - Epoch: 26  Avg accuracy: 0.659 Avg loss: 0.884\n",
      "INFO:root:End of validation on epoch 26\n",
      "INFO:root:Starting learning at epoch 27 in 2023-12-19 19:32:44.871824\n",
      "INFO:root:End learning at epoch 27 in 2023-12-19 19:33:29.901970\n",
      "INFO:root:Starting validation on epoch 27\n",
      "INFO:root:Validation Results - Epoch: 27  Avg accuracy: 0.657 Avg loss: 0.885\n",
      "INFO:root:End of validation on epoch 27\n",
      "INFO:root:Starting learning at epoch 28 in 2023-12-19 19:33:43.180915\n",
      "INFO:root:End learning at epoch 28 in 2023-12-19 19:34:31.311967\n",
      "INFO:root:Starting validation on epoch 28\n",
      "INFO:root:Validation Results - Epoch: 28  Avg accuracy: 0.661 Avg loss: 0.883\n",
      "INFO:root:End of validation on epoch 28\n",
      "INFO:root:Starting learning at epoch 29 in 2023-12-19 19:34:38.026973\n",
      "INFO:root:End learning at epoch 29 in 2023-12-19 19:35:25.418996\n",
      "INFO:root:Starting validation on epoch 29\n",
      "INFO:root:Validation Results - Epoch: 29  Avg accuracy: 0.661 Avg loss: 0.882\n",
      "INFO:root:End of validation on epoch 29\n",
      "INFO:root:Starting learning at epoch 30 in 2023-12-19 19:35:31.655381\n",
      "INFO:root:End learning at epoch 30 in 2023-12-19 19:36:16.685101\n",
      "INFO:root:Starting validation on epoch 30\n",
      "INFO:root:Validation Results - Epoch: 30  Avg accuracy: 0.661 Avg loss: 0.883\n",
      "INFO:root:End of validation on epoch 30\n",
      "INFO:root:Starting learning at epoch 31 in 2023-12-19 19:36:22.957717\n",
      "INFO:root:End learning at epoch 31 in 2023-12-19 19:37:07.925974\n",
      "INFO:root:Starting validation on epoch 31\n",
      "INFO:root:Validation Results - Epoch: 31  Avg accuracy: 0.664 Avg loss: 0.882\n",
      "INFO:root:End of validation on epoch 31\n",
      "INFO:root:Starting learning at epoch 32 in 2023-12-19 19:37:14.233114\n",
      "INFO:root:End learning at epoch 32 in 2023-12-19 19:38:03.762431\n",
      "INFO:root:Starting validation on epoch 32\n",
      "INFO:root:Validation Results - Epoch: 32  Avg accuracy: 0.664 Avg loss: 0.882\n",
      "INFO:root:End of validation on epoch 32\n",
      "INFO:root:Starting learning at epoch 33 in 2023-12-19 19:38:10.207414\n",
      "INFO:root:End learning at epoch 33 in 2023-12-19 19:39:00.804456\n",
      "INFO:root:Starting validation on epoch 33\n",
      "INFO:root:Validation Results - Epoch: 33  Avg accuracy: 0.664 Avg loss: 0.882\n",
      "INFO:root:End of validation on epoch 33\n",
      "INFO:root:Starting learning at epoch 34 in 2023-12-19 19:39:07.410026\n",
      "INFO:root:End learning at epoch 34 in 2023-12-19 19:39:57.580064\n",
      "INFO:root:Starting validation on epoch 34\n",
      "INFO:root:Validation Results - Epoch: 34  Avg accuracy: 0.664 Avg loss: 0.881\n",
      "INFO:root:End of validation on epoch 34\n",
      "INFO:root:Starting learning at epoch 35 in 2023-12-19 19:40:03.824969\n",
      "INFO:root:End learning at epoch 35 in 2023-12-19 19:40:55.110066\n",
      "INFO:root:Starting validation on epoch 35\n",
      "INFO:root:Validation Results - Epoch: 35  Avg accuracy: 0.659 Avg loss: 0.884\n",
      "INFO:root:End of validation on epoch 35\n",
      "INFO:root:Starting learning at epoch 36 in 2023-12-19 19:41:01.484340\n",
      "INFO:root:End learning at epoch 36 in 2023-12-19 19:41:51.749910\n",
      "INFO:root:Starting validation on epoch 36\n",
      "INFO:root:Validation Results - Epoch: 36  Avg accuracy: 0.664 Avg loss: 0.881\n",
      "INFO:root:End of validation on epoch 36\n",
      "INFO:root:Starting learning at epoch 37 in 2023-12-19 19:41:58.017203\n",
      "INFO:root:End learning at epoch 37 in 2023-12-19 19:42:47.904347\n",
      "INFO:root:Starting validation on epoch 37\n",
      "INFO:root:Validation Results - Epoch: 37  Avg accuracy: 0.664 Avg loss: 0.881\n",
      "INFO:root:End of validation on epoch 37\n",
      "INFO:root:Starting learning at epoch 38 in 2023-12-19 19:42:54.150761\n",
      "ERROR:ignite.engine.engine.Engine:Engine run is terminating due to exception: \n"
     ]
    },
    {
     "ename": "KeyboardInterrupt",
     "evalue": "",
     "output_type": "error",
     "traceback": [
      "\u001B[0;31m---------------------------------------------------------------------------\u001B[0m",
      "\u001B[0;31mKeyboardInterrupt\u001B[0m                         Traceback (most recent call last)",
      "Cell \u001B[0;32mIn[14], line 1\u001B[0m\n\u001B[0;32m----> 1\u001B[0m \u001B[43mtrainer\u001B[49m\u001B[38;5;241;43m.\u001B[39;49m\u001B[43mrun\u001B[49m\u001B[43m(\u001B[49m\u001B[43mtrain_dataloader\u001B[49m\u001B[43m,\u001B[49m\u001B[43m \u001B[49m\u001B[43mmax_epochs\u001B[49m\u001B[38;5;241;43m=\u001B[39;49m\u001B[43mEPOCHS\u001B[49m\u001B[43m)\u001B[49m\n",
      "File \u001B[0;32m~/DataspellProjects/ML-intensive-Yandex-Academy-autumn-2023/venv/lib/python3.10/site-packages/ignite/engine/engine.py:898\u001B[0m, in \u001B[0;36mEngine.run\u001B[0;34m(self, data, max_epochs, epoch_length, seed)\u001B[0m\n\u001B[1;32m    895\u001B[0m     \u001B[38;5;28mself\u001B[39m\u001B[38;5;241m.\u001B[39mstate\u001B[38;5;241m.\u001B[39mdataloader \u001B[38;5;241m=\u001B[39m data\n\u001B[1;32m    897\u001B[0m \u001B[38;5;28;01mif\u001B[39;00m \u001B[38;5;28mself\u001B[39m\u001B[38;5;241m.\u001B[39minterrupt_resume_enabled:\n\u001B[0;32m--> 898\u001B[0m     \u001B[38;5;28;01mreturn\u001B[39;00m \u001B[38;5;28;43mself\u001B[39;49m\u001B[38;5;241;43m.\u001B[39;49m\u001B[43m_internal_run\u001B[49m\u001B[43m(\u001B[49m\u001B[43m)\u001B[49m\n\u001B[1;32m    899\u001B[0m \u001B[38;5;28;01melse\u001B[39;00m:\n\u001B[1;32m    900\u001B[0m     \u001B[38;5;28;01mreturn\u001B[39;00m \u001B[38;5;28mself\u001B[39m\u001B[38;5;241m.\u001B[39m_internal_run_legacy()\n",
      "File \u001B[0;32m~/DataspellProjects/ML-intensive-Yandex-Academy-autumn-2023/venv/lib/python3.10/site-packages/ignite/engine/engine.py:941\u001B[0m, in \u001B[0;36mEngine._internal_run\u001B[0;34m(self)\u001B[0m\n\u001B[1;32m    939\u001B[0m     \u001B[38;5;28mself\u001B[39m\u001B[38;5;241m.\u001B[39m_internal_run_generator \u001B[38;5;241m=\u001B[39m \u001B[38;5;28mself\u001B[39m\u001B[38;5;241m.\u001B[39m_internal_run_as_gen()\n\u001B[1;32m    940\u001B[0m \u001B[38;5;28;01mtry\u001B[39;00m:\n\u001B[0;32m--> 941\u001B[0m     \u001B[38;5;28;01mreturn\u001B[39;00m \u001B[38;5;28;43mnext\u001B[39;49m\u001B[43m(\u001B[49m\u001B[38;5;28;43mself\u001B[39;49m\u001B[38;5;241;43m.\u001B[39;49m\u001B[43m_internal_run_generator\u001B[49m\u001B[43m)\u001B[49m\n\u001B[1;32m    942\u001B[0m \u001B[38;5;28;01mexcept\u001B[39;00m \u001B[38;5;167;01mStopIteration\u001B[39;00m \u001B[38;5;28;01mas\u001B[39;00m out:\n\u001B[1;32m    943\u001B[0m     \u001B[38;5;28mself\u001B[39m\u001B[38;5;241m.\u001B[39m_internal_run_generator \u001B[38;5;241m=\u001B[39m \u001B[38;5;28;01mNone\u001B[39;00m\n",
      "File \u001B[0;32m~/DataspellProjects/ML-intensive-Yandex-Academy-autumn-2023/venv/lib/python3.10/site-packages/ignite/engine/engine.py:999\u001B[0m, in \u001B[0;36mEngine._internal_run_as_gen\u001B[0;34m(self)\u001B[0m\n\u001B[1;32m    997\u001B[0m     \u001B[38;5;28mself\u001B[39m\u001B[38;5;241m.\u001B[39m_dataloader_iter \u001B[38;5;241m=\u001B[39m \u001B[38;5;28;01mNone\u001B[39;00m\n\u001B[1;32m    998\u001B[0m     \u001B[38;5;28mself\u001B[39m\u001B[38;5;241m.\u001B[39mlogger\u001B[38;5;241m.\u001B[39merror(\u001B[38;5;124mf\u001B[39m\u001B[38;5;124m\"\u001B[39m\u001B[38;5;124mEngine run is terminating due to exception: \u001B[39m\u001B[38;5;132;01m{\u001B[39;00me\u001B[38;5;132;01m}\u001B[39;00m\u001B[38;5;124m\"\u001B[39m)\n\u001B[0;32m--> 999\u001B[0m     \u001B[38;5;28;43mself\u001B[39;49m\u001B[38;5;241;43m.\u001B[39;49m\u001B[43m_handle_exception\u001B[49m\u001B[43m(\u001B[49m\u001B[43me\u001B[49m\u001B[43m)\u001B[49m\n\u001B[1;32m   1001\u001B[0m \u001B[38;5;28mself\u001B[39m\u001B[38;5;241m.\u001B[39m_dataloader_iter \u001B[38;5;241m=\u001B[39m \u001B[38;5;28;01mNone\u001B[39;00m\n\u001B[1;32m   1002\u001B[0m \u001B[38;5;28;01mreturn\u001B[39;00m \u001B[38;5;28mself\u001B[39m\u001B[38;5;241m.\u001B[39mstate\n",
      "File \u001B[0;32m~/DataspellProjects/ML-intensive-Yandex-Academy-autumn-2023/venv/lib/python3.10/site-packages/ignite/engine/engine.py:644\u001B[0m, in \u001B[0;36mEngine._handle_exception\u001B[0;34m(self, e)\u001B[0m\n\u001B[1;32m    642\u001B[0m     \u001B[38;5;28mself\u001B[39m\u001B[38;5;241m.\u001B[39m_fire_event(Events\u001B[38;5;241m.\u001B[39mEXCEPTION_RAISED, e)\n\u001B[1;32m    643\u001B[0m \u001B[38;5;28;01melse\u001B[39;00m:\n\u001B[0;32m--> 644\u001B[0m     \u001B[38;5;28;01mraise\u001B[39;00m e\n",
      "File \u001B[0;32m~/DataspellProjects/ML-intensive-Yandex-Academy-autumn-2023/venv/lib/python3.10/site-packages/ignite/engine/engine.py:965\u001B[0m, in \u001B[0;36mEngine._internal_run_as_gen\u001B[0;34m(self)\u001B[0m\n\u001B[1;32m    962\u001B[0m \u001B[38;5;28;01mif\u001B[39;00m \u001B[38;5;28mself\u001B[39m\u001B[38;5;241m.\u001B[39m_dataloader_iter \u001B[38;5;129;01mis\u001B[39;00m \u001B[38;5;28;01mNone\u001B[39;00m:\n\u001B[1;32m    963\u001B[0m     \u001B[38;5;28mself\u001B[39m\u001B[38;5;241m.\u001B[39m_setup_engine()\n\u001B[0;32m--> 965\u001B[0m epoch_time_taken \u001B[38;5;241m+\u001B[39m\u001B[38;5;241m=\u001B[39m \u001B[38;5;28;01myield from\u001B[39;00m \u001B[38;5;28mself\u001B[39m\u001B[38;5;241m.\u001B[39m_run_once_on_dataset_as_gen()\n\u001B[1;32m    967\u001B[0m \u001B[38;5;66;03m# time is available for handlers but must be updated after fire\u001B[39;00m\n\u001B[1;32m    968\u001B[0m \u001B[38;5;28mself\u001B[39m\u001B[38;5;241m.\u001B[39mstate\u001B[38;5;241m.\u001B[39mtimes[Events\u001B[38;5;241m.\u001B[39mEPOCH_COMPLETED\u001B[38;5;241m.\u001B[39mname] \u001B[38;5;241m=\u001B[39m epoch_time_taken\n",
      "File \u001B[0;32m~/DataspellProjects/ML-intensive-Yandex-Academy-autumn-2023/venv/lib/python3.10/site-packages/ignite/engine/engine.py:1074\u001B[0m, in \u001B[0;36mEngine._run_once_on_dataset_as_gen\u001B[0;34m(self)\u001B[0m\n\u001B[1;32m   1071\u001B[0m \u001B[38;5;28mself\u001B[39m\u001B[38;5;241m.\u001B[39m_fire_event(Events\u001B[38;5;241m.\u001B[39mITERATION_STARTED)\n\u001B[1;32m   1072\u001B[0m \u001B[38;5;28;01myield from\u001B[39;00m \u001B[38;5;28mself\u001B[39m\u001B[38;5;241m.\u001B[39m_maybe_terminate_or_interrupt()\n\u001B[0;32m-> 1074\u001B[0m \u001B[38;5;28mself\u001B[39m\u001B[38;5;241m.\u001B[39mstate\u001B[38;5;241m.\u001B[39moutput \u001B[38;5;241m=\u001B[39m \u001B[38;5;28;43mself\u001B[39;49m\u001B[38;5;241;43m.\u001B[39;49m\u001B[43m_process_function\u001B[49m\u001B[43m(\u001B[49m\u001B[38;5;28;43mself\u001B[39;49m\u001B[43m,\u001B[49m\u001B[43m \u001B[49m\u001B[38;5;28;43mself\u001B[39;49m\u001B[38;5;241;43m.\u001B[39;49m\u001B[43mstate\u001B[49m\u001B[38;5;241;43m.\u001B[39;49m\u001B[43mbatch\u001B[49m\u001B[43m)\u001B[49m\n\u001B[1;32m   1075\u001B[0m \u001B[38;5;28mself\u001B[39m\u001B[38;5;241m.\u001B[39m_fire_event(Events\u001B[38;5;241m.\u001B[39mITERATION_COMPLETED)\n\u001B[1;32m   1076\u001B[0m \u001B[38;5;28;01myield from\u001B[39;00m \u001B[38;5;28mself\u001B[39m\u001B[38;5;241m.\u001B[39m_maybe_terminate_or_interrupt()\n",
      "File \u001B[0;32m~/DataspellProjects/ML-intensive-Yandex-Academy-autumn-2023/venv/lib/python3.10/site-packages/ignite/engine/__init__.py:120\u001B[0m, in \u001B[0;36msupervised_training_step.<locals>.update\u001B[0;34m(engine, batch)\u001B[0m\n\u001B[1;32m    118\u001B[0m \u001B[38;5;28;01mif\u001B[39;00m engine\u001B[38;5;241m.\u001B[39mstate\u001B[38;5;241m.\u001B[39miteration \u001B[38;5;241m%\u001B[39m gradient_accumulation_steps \u001B[38;5;241m==\u001B[39m \u001B[38;5;241m0\u001B[39m:\n\u001B[1;32m    119\u001B[0m     optimizer\u001B[38;5;241m.\u001B[39mstep()\n\u001B[0;32m--> 120\u001B[0m \u001B[38;5;28;01mreturn\u001B[39;00m \u001B[43moutput_transform\u001B[49m\u001B[43m(\u001B[49m\u001B[43mx\u001B[49m\u001B[43m,\u001B[49m\u001B[43m \u001B[49m\u001B[43my\u001B[49m\u001B[43m,\u001B[49m\u001B[43m \u001B[49m\u001B[43my_pred\u001B[49m\u001B[43m,\u001B[49m\u001B[43m \u001B[49m\u001B[43mloss\u001B[49m\u001B[43m \u001B[49m\u001B[38;5;241;43m*\u001B[39;49m\u001B[43m \u001B[49m\u001B[43mgradient_accumulation_steps\u001B[49m\u001B[43m)\u001B[49m\n",
      "File \u001B[0;32m~/DataspellProjects/ML-intensive-Yandex-Academy-autumn-2023/venv/lib/python3.10/site-packages/ignite/engine/__init__.py:429\u001B[0m, in \u001B[0;36m<lambda>\u001B[0;34m(x, y, y_pred, loss)\u001B[0m\n\u001B[1;32m    417\u001B[0m     \u001B[38;5;28;01melse\u001B[39;00m:\n\u001B[1;32m    418\u001B[0m         \u001B[38;5;28;01mreturn\u001B[39;00m amp_mode, \u001B[38;5;28;01mNone\u001B[39;00m\n\u001B[1;32m    421\u001B[0m \u001B[38;5;28;01mdef\u001B[39;00m \u001B[38;5;21mcreate_supervised_trainer\u001B[39m(\n\u001B[1;32m    422\u001B[0m     model: torch\u001B[38;5;241m.\u001B[39mnn\u001B[38;5;241m.\u001B[39mModule,\n\u001B[1;32m    423\u001B[0m     optimizer: torch\u001B[38;5;241m.\u001B[39moptim\u001B[38;5;241m.\u001B[39mOptimizer,\n\u001B[1;32m    424\u001B[0m     loss_fn: Union[Callable[[Any, Any], torch\u001B[38;5;241m.\u001B[39mTensor], torch\u001B[38;5;241m.\u001B[39mnn\u001B[38;5;241m.\u001B[39mModule],\n\u001B[1;32m    425\u001B[0m     device: Optional[Union[\u001B[38;5;28mstr\u001B[39m, torch\u001B[38;5;241m.\u001B[39mdevice]] \u001B[38;5;241m=\u001B[39m \u001B[38;5;28;01mNone\u001B[39;00m,\n\u001B[1;32m    426\u001B[0m     non_blocking: \u001B[38;5;28mbool\u001B[39m \u001B[38;5;241m=\u001B[39m \u001B[38;5;28;01mFalse\u001B[39;00m,\n\u001B[1;32m    427\u001B[0m     prepare_batch: Callable \u001B[38;5;241m=\u001B[39m _prepare_batch,\n\u001B[1;32m    428\u001B[0m     model_transform: Callable[[Any], Any] \u001B[38;5;241m=\u001B[39m \u001B[38;5;28;01mlambda\u001B[39;00m output: output,\n\u001B[0;32m--> 429\u001B[0m     output_transform: Callable[[Any, Any, Any, torch\u001B[38;5;241m.\u001B[39mTensor], Any] \u001B[38;5;241m=\u001B[39m \u001B[38;5;28;01mlambda\u001B[39;00m x, y, y_pred, loss: \u001B[43mloss\u001B[49m\u001B[38;5;241;43m.\u001B[39;49m\u001B[43mitem\u001B[49m\u001B[43m(\u001B[49m\u001B[43m)\u001B[49m,\n\u001B[1;32m    430\u001B[0m     deterministic: \u001B[38;5;28mbool\u001B[39m \u001B[38;5;241m=\u001B[39m \u001B[38;5;28;01mFalse\u001B[39;00m,\n\u001B[1;32m    431\u001B[0m     amp_mode: Optional[\u001B[38;5;28mstr\u001B[39m] \u001B[38;5;241m=\u001B[39m \u001B[38;5;28;01mNone\u001B[39;00m,\n\u001B[1;32m    432\u001B[0m     scaler: Union[\u001B[38;5;28mbool\u001B[39m, \u001B[38;5;124m\"\u001B[39m\u001B[38;5;124mtorch.cuda.amp.GradScaler\u001B[39m\u001B[38;5;124m\"\u001B[39m] \u001B[38;5;241m=\u001B[39m \u001B[38;5;28;01mFalse\u001B[39;00m,\n\u001B[1;32m    433\u001B[0m     gradient_accumulation_steps: \u001B[38;5;28mint\u001B[39m \u001B[38;5;241m=\u001B[39m \u001B[38;5;241m1\u001B[39m,\n\u001B[1;32m    434\u001B[0m     model_fn: Callable[[torch\u001B[38;5;241m.\u001B[39mnn\u001B[38;5;241m.\u001B[39mModule, Any], Any] \u001B[38;5;241m=\u001B[39m \u001B[38;5;28;01mlambda\u001B[39;00m model, x: model(x),\n\u001B[1;32m    435\u001B[0m ) \u001B[38;5;241m-\u001B[39m\u001B[38;5;241m>\u001B[39m Engine:\n\u001B[1;32m    436\u001B[0m \u001B[38;5;250m    \u001B[39m\u001B[38;5;124;03m\"\"\"Factory function for creating a trainer for supervised models.\u001B[39;00m\n\u001B[1;32m    437\u001B[0m \n\u001B[1;32m    438\u001B[0m \u001B[38;5;124;03m    Args:\u001B[39;00m\n\u001B[0;32m   (...)\u001B[0m\n\u001B[1;32m    548\u001B[0m \u001B[38;5;124;03m        Added `model_fn` to customize model's application on the sample\u001B[39;00m\n\u001B[1;32m    549\u001B[0m \u001B[38;5;124;03m    \"\"\"\u001B[39;00m\n\u001B[1;32m    551\u001B[0m     device_type \u001B[38;5;241m=\u001B[39m device\u001B[38;5;241m.\u001B[39mtype \u001B[38;5;28;01mif\u001B[39;00m \u001B[38;5;28misinstance\u001B[39m(device, torch\u001B[38;5;241m.\u001B[39mdevice) \u001B[38;5;28;01melse\u001B[39;00m device\n",
      "\u001B[0;31mKeyboardInterrupt\u001B[0m: "
     ]
    }
   ],
   "source": [
    "trainer.run(train_dataloader, max_epochs=EPOCHS)"
   ],
   "metadata": {
    "collapsed": false,
    "ExecuteTime": {
     "end_time": "2023-12-19T16:43:39.063698Z",
     "start_time": "2023-12-19T16:09:05.364685Z"
    }
   },
   "id": "232d9cbfec3d0e69"
  },
  {
   "cell_type": "code",
   "execution_count": null,
   "outputs": [],
   "source": [
    "from matplotlib import pyplot as plt\n",
    "\n",
    "# Графики обучения\n",
    "plt.figure(figsize=(10, 5))\n",
    "plt.subplot(1, 2, 1)\n",
    "plt.plot(train_loss_values, label='Training Loss')\n",
    "plt.plot(validation_loss_values, label='Validation Loss')\n",
    "plt.xlabel('Epochs')\n",
    "plt.ylabel('Loss')\n",
    "plt.legend()\n",
    "\n",
    "plt.subplot(1, 2, 2)\n",
    "plt.plot(validation_accuracy_values, label='Validation Accuracy', color='red')\n",
    "plt.xlabel('Epochs')\n",
    "plt.ylabel('Accuracy')\n",
    "plt.legend()\n",
    "\n",
    "plt.tight_layout()\n",
    "plt.show()"
   ],
   "metadata": {
    "collapsed": false,
    "ExecuteTime": {
     "start_time": "2023-12-19T16:43:39.066883Z"
    }
   },
   "id": "cb1d0dbd6d4735aa"
  },
  {
   "cell_type": "code",
   "execution_count": null,
   "outputs": [],
   "source": [],
   "metadata": {
    "collapsed": false,
    "ExecuteTime": {
     "start_time": "2023-12-19T16:43:39.069295Z"
    }
   },
   "id": "5123afea665da494"
  },
  {
   "cell_type": "code",
   "execution_count": null,
   "outputs": [],
   "source": [
    "import torch\n",
    "import random\n",
    "\n",
    "\n",
    "# устанавливаем seed, чтобы результаты не изменялись при не изменение чего-либо\n",
    "torch.manual_seed(666)\n",
    "random.seed(666)\n",
    "\n",
    "DEVICE = torch.device(\"cuda\" if torch.cuda.is_available() else \"cpu\")\n",
    "\n",
    "test_model = NoMaskModel()\n",
    "test_model = test_model.to(DEVICE)\n",
    "test_model.load_state_dict(torch.load(\"models/model.pt\"))\n",
    "test_dataset = ImageToNumDataset(\"data/test_images\", transform=transform)"
   ],
   "metadata": {
    "collapsed": false,
    "ExecuteTime": {
     "start_time": "2023-12-19T16:43:39.071311Z"
    }
   },
   "id": "f336c2cc32c851fe"
  },
  {
   "cell_type": "code",
   "execution_count": null,
   "outputs": [],
   "source": [
    "import csv\n",
    "\n",
    "# Генерация файлов ответа\n",
    "test_model.eval()\n",
    "len_dataset = len(test_dataset)\n",
    "with open(\"answer.csv\", \"w\") as file:\n",
    "    writer = csv.writer(file, delimiter=\",\")\n",
    "    writer.writerow([\"id\", \"target_feature\"])\n",
    "    for index, image in enumerate(test_dataset):\n",
    "        with torch.no_grad():\n",
    "            pred_y = test_model(image.unsqueeze(0))\n",
    "        answer = max(((n, i) for i, n in enumerate(pred_y[0])), key=lambda x: x[0])[1]\n",
    "        writer.writerow([index, answer])\n",
    "        if index % 10 == 0 or index % 10 == 9:\n",
    "            print(f\"{(index / len_dataset) * 100:.2f}%\")\n",
    "print(\"100%\")"
   ],
   "metadata": {
    "collapsed": false,
    "ExecuteTime": {
     "start_time": "2023-12-19T16:43:39.072473Z"
    }
   },
   "id": "e5f69f0d8daecbd5"
  },
  {
   "cell_type": "code",
   "execution_count": null,
   "outputs": [],
   "source": [],
   "metadata": {
    "collapsed": false,
    "ExecuteTime": {
     "start_time": "2023-12-19T16:43:39.073633Z"
    }
   },
   "id": "d2eca2918f0d61d6"
  }
 ],
 "metadata": {
  "kernelspec": {
   "display_name": "Python 3",
   "language": "python",
   "name": "python3"
  },
  "language_info": {
   "codemirror_mode": {
    "name": "ipython",
    "version": 2
   },
   "file_extension": ".py",
   "mimetype": "text/x-python",
   "name": "python",
   "nbconvert_exporter": "python",
   "pygments_lexer": "ipython2",
   "version": "2.7.6"
  }
 },
 "nbformat": 4,
 "nbformat_minor": 5
}
