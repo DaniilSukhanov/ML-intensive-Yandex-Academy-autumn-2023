{
 "cells": [
  {
   "cell_type": "code",
   "execution_count": 30,
   "outputs": [],
   "source": [
    "import datetime\n",
    "\n",
    "import torch\n",
    "import random\n",
    "\n",
    "\n",
    "# устанавливаем seed, чтобы результаты не изменялись при не изменение чего-либо\n",
    "torch.manual_seed(666)\n",
    "random.seed(666)"
   ],
   "metadata": {
    "collapsed": false,
    "ExecuteTime": {
     "end_time": "2023-12-09T18:27:46.826061Z",
     "start_time": "2023-12-09T18:27:46.811595Z"
    }
   },
   "id": "70c1aed05d7dbf71"
  },
  {
   "cell_type": "code",
   "execution_count": 31,
   "id": "initial_id",
   "metadata": {
    "collapsed": true,
    "ExecuteTime": {
     "end_time": "2023-12-09T18:27:46.839432Z",
     "start_time": "2023-12-09T18:27:46.828562Z"
    }
   },
   "outputs": [],
   "source": [
    "from support_module import ImageToNumDataset, NoMaskModel"
   ]
  },
  {
   "cell_type": "code",
   "execution_count": 32,
   "outputs": [
    {
     "data": {
      "text/plain": "device(type='mps', index=0)"
     },
     "execution_count": 32,
     "metadata": {},
     "output_type": "execute_result"
    }
   ],
   "source": [
    "import torch\n",
    "DEVICE = torch.device(\"cuda\" if torch.cuda.is_available() else \"mps:0\" if torch.backends.mps.is_available() else \"cpu\")\n",
    "DEVICE"
   ],
   "metadata": {
    "collapsed": false,
    "ExecuteTime": {
     "end_time": "2023-12-09T18:27:46.852835Z",
     "start_time": "2023-12-09T18:27:46.841785Z"
    }
   },
   "id": "b2acdf1950fed443"
  },
  {
   "cell_type": "code",
   "execution_count": 33,
   "outputs": [],
   "source": [
    "import torch\n",
    "from torchvision.transforms.v2 import ToDtype, Normalize, Compose, PILToTensor\n",
    "\n",
    "transform = Compose([\n",
    "    PILToTensor(),\n",
    "    ToDtype(torch.float32, scale=True),\n",
    "    Normalize((0.5,), (0.5,))\n",
    "])"
   ],
   "metadata": {
    "collapsed": false,
    "ExecuteTime": {
     "end_time": "2023-12-09T18:27:46.863808Z",
     "start_time": "2023-12-09T18:27:46.846524Z"
    }
   },
   "id": "92567a6e2f7c9ed"
  },
  {
   "cell_type": "code",
   "execution_count": 34,
   "outputs": [],
   "source": [
    "dataset = ImageToNumDataset(\"data/train_images\", answers_file=\"data/train_answers.csv\", transform=transform)"
   ],
   "metadata": {
    "collapsed": false,
    "ExecuteTime": {
     "end_time": "2023-12-09T18:27:46.877934Z",
     "start_time": "2023-12-09T18:27:46.849880Z"
    }
   },
   "id": "4c0d528f745d5416"
  },
  {
   "cell_type": "code",
   "execution_count": 35,
   "outputs": [],
   "source": [
    "from torch.utils.data import DataLoader, random_split\n",
    "\n",
    "train_dataset, validation_dataset = random_split(dataset, (0.8, 0.2))\n",
    "\n",
    "train_dataloader = DataLoader(train_dataset, batch_size=2**5, shuffle=True)\n",
    "validation_dataloader = DataLoader(validation_dataset, batch_size=2**5, shuffle=False)"
   ],
   "metadata": {
    "collapsed": false,
    "ExecuteTime": {
     "end_time": "2023-12-09T18:27:46.883614Z",
     "start_time": "2023-12-09T18:27:46.880511Z"
    }
   },
   "id": "6ff78bcecf5d1461"
  },
  {
   "cell_type": "code",
   "execution_count": 36,
   "outputs": [],
   "source": [
    "model = NoMaskModel()\n",
    "model = model.to(DEVICE)\n",
    "# model.load_state_dict(torch.load(\"models/model.pt\"))"
   ],
   "metadata": {
    "collapsed": false,
    "ExecuteTime": {
     "end_time": "2023-12-09T18:27:46.933552Z",
     "start_time": "2023-12-09T18:27:46.883114Z"
    }
   },
   "id": "6a7ad10130281076"
  },
  {
   "cell_type": "code",
   "execution_count": 37,
   "outputs": [],
   "source": [
    "from torch import nn, optim\n",
    "\n",
    "criterion = nn.CrossEntropyLoss()\n",
    "optimizer = optim.Adam(model.parameters(), lr=1e-5)"
   ],
   "metadata": {
    "collapsed": false,
    "ExecuteTime": {
     "end_time": "2023-12-09T18:27:46.934060Z",
     "start_time": "2023-12-09T18:27:46.931258Z"
    }
   },
   "id": "56276a7277848d65"
  },
  {
   "cell_type": "code",
   "execution_count": 37,
   "outputs": [],
   "source": [],
   "metadata": {
    "collapsed": false,
    "ExecuteTime": {
     "end_time": "2023-12-09T18:27:46.938337Z",
     "start_time": "2023-12-09T18:27:46.933871Z"
    }
   },
   "id": "ba2a87d5be33d952"
  },
  {
   "cell_type": "code",
   "execution_count": 38,
   "outputs": [],
   "source": [
    "from ignite.metrics import Accuracy, Loss\n",
    "from ignite.engine import create_supervised_trainer, create_supervised_evaluator\n",
    "\n",
    "trainer = create_supervised_trainer(model, optimizer, criterion, device=DEVICE)\n",
    "evaluator = create_supervised_evaluator(model, metrics={'accuracy': Accuracy(), 'nll': Loss(criterion)}, device=DEVICE)"
   ],
   "metadata": {
    "collapsed": false,
    "ExecuteTime": {
     "end_time": "2023-12-09T18:27:46.942660Z",
     "start_time": "2023-12-09T18:27:46.939139Z"
    }
   },
   "id": "124ae499ac32c1cc"
  },
  {
   "cell_type": "code",
   "execution_count": 39,
   "outputs": [],
   "source": [
    "# Сбор потерь и метрик для построения графиков\n",
    "train_loss_values = []\n",
    "validation_loss_values = []\n",
    "validation_accuracy_values = []"
   ],
   "metadata": {
    "collapsed": false,
    "ExecuteTime": {
     "end_time": "2023-12-09T18:27:46.946891Z",
     "start_time": "2023-12-09T18:27:46.941767Z"
    }
   },
   "id": "cdb25116c5ca23a1"
  },
  {
   "cell_type": "code",
   "execution_count": 40,
   "outputs": [],
   "source": [
    "import logging\n",
    "\n",
    "\n",
    "logging.basicConfig(level=logging.INFO)\n",
    "logger = logging.getLogger()\n",
    "logging.getLogger(\"ignite.engine.engine.Engine\").setLevel(logging.WARNING)"
   ],
   "metadata": {
    "collapsed": false,
    "ExecuteTime": {
     "end_time": "2023-12-09T18:27:46.950962Z",
     "start_time": "2023-12-09T18:27:46.945353Z"
    }
   },
   "id": "a5f6d77d640e91a1"
  },
  {
   "cell_type": "code",
   "execution_count": 41,
   "outputs": [],
   "source": [
    "EPOCHS = 50"
   ],
   "metadata": {
    "collapsed": false,
    "ExecuteTime": {
     "end_time": "2023-12-09T18:27:46.951427Z",
     "start_time": "2023-12-09T18:27:46.948247Z"
    }
   },
   "id": "9d42f86d6a268bd9"
  },
  {
   "cell_type": "code",
   "execution_count": 42,
   "outputs": [],
   "source": [
    "from ignite.engine import Events\n",
    "\n",
    "\n",
    "@trainer.on(Events.EPOCH_STARTED)\n",
    "def log_training_start(engine):\n",
    "    logging.info(f\"Starting learning at epoch {engine.state.epoch} in {datetime.datetime.now()}\")\n",
    "\n",
    "\n",
    "# @trainer.on(Events.EPOCH_COMPLETED)\n",
    "def log_training_results(engine):\n",
    "    logging.info(f\"End learning at epoch {engine.state.epoch} in {datetime.datetime.now()}\")\n",
    "    # Запуск оценки модели на обучающем наборе данных\n",
    "    evaluator.run(train_dataloader)\n",
    "    metrics = evaluator.state.metrics\n",
    "    # Сбор и вывод средней точности и потерь на обучающем наборе\n",
    "    train_loss_values.append(metrics['nll'])\n",
    "    logging.info(\n",
    "        f\"Training Results - Epoch: {engine.state.epoch}  \"\n",
    "        f\"Avg accuracy: {metrics['accuracy']:.2f} \"\n",
    "        f\"Avg loss: {metrics['nll']:.2f}\"\n",
    "    )\n",
    "    \n",
    "@trainer.on(Events.EPOCH_COMPLETED)\n",
    "def log_validation_results(engine):\n",
    "    logging.info(f\"End learning at epoch {engine.state.epoch} in {datetime.datetime.now()}\")\n",
    "    logging.info(f\"Starting validation on epoch {engine.state.epoch}\")\n",
    "    # Запуск оценки модели на валидационном наборе данных\n",
    "    evaluator.run(validation_dataloader)\n",
    "    metrics = evaluator.state.metrics\n",
    "    # Сбор и вывод средней точности и потерь на валидационном наборе\n",
    "    validation_loss_values.append(metrics['nll'])\n",
    "    validation_accuracy_values.append(metrics['accuracy'])\n",
    "    logging.info(\n",
    "        f\"Validation Results - Epoch: {engine.state.epoch}  \"\n",
    "        f\"Avg accuracy: {metrics['accuracy']:.3f} \"\n",
    "        f\"Avg loss: {metrics['nll']:.3f}\"\n",
    "    )\n",
    "    logging.info(f\"End of validation on epoch {engine.state.epoch}\")\n",
    "    torch.save(model.state_dict(), \"models/model.pt\")"
   ],
   "metadata": {
    "collapsed": false,
    "ExecuteTime": {
     "end_time": "2023-12-09T18:27:46.960467Z",
     "start_time": "2023-12-09T18:27:46.952721Z"
    }
   },
   "id": "84b5ce8888cd671a"
  },
  {
   "cell_type": "code",
   "execution_count": null,
   "outputs": [
    {
     "name": "stderr",
     "output_type": "stream",
     "text": [
      "INFO:root:Starting learning at epoch 1 in 2023-12-09 21:27:46.954689\n",
      "INFO:root:End learning at epoch 1 in 2023-12-09 21:28:51.970737\n",
      "INFO:root:Starting validation on epoch 1\n",
      "INFO:root:Validation Results - Epoch: 1  Avg accuracy: 0.747 Avg loss: 0.810\n",
      "INFO:root:End of validation on epoch 1\n",
      "INFO:root:Starting learning at epoch 2 in 2023-12-09 21:29:03.702151\n",
      "INFO:root:End learning at epoch 2 in 2023-12-09 21:30:08.848099\n",
      "INFO:root:Starting validation on epoch 2\n",
      "INFO:root:Validation Results - Epoch: 2  Avg accuracy: 0.783 Avg loss: 0.772\n",
      "INFO:root:End of validation on epoch 2\n",
      "INFO:root:Starting learning at epoch 3 in 2023-12-09 21:30:20.543127\n",
      "INFO:root:End learning at epoch 3 in 2023-12-09 21:36:30.540234\n",
      "INFO:root:Starting validation on epoch 3\n",
      "INFO:root:Validation Results - Epoch: 3  Avg accuracy: 0.800 Avg loss: 0.756\n",
      "INFO:root:End of validation on epoch 3\n",
      "INFO:root:Starting learning at epoch 4 in 2023-12-09 21:42:54.743468\n",
      "INFO:root:End learning at epoch 4 in 2023-12-09 23:00:10.850434\n",
      "INFO:root:Starting validation on epoch 4\n",
      "INFO:root:Validation Results - Epoch: 4  Avg accuracy: 0.800 Avg loss: 0.750\n",
      "INFO:root:End of validation on epoch 4\n",
      "INFO:root:Starting learning at epoch 5 in 2023-12-09 23:00:24.393306\n",
      "INFO:root:End learning at epoch 5 in 2023-12-09 23:46:01.457743\n",
      "INFO:root:Starting validation on epoch 5\n",
      "INFO:root:Validation Results - Epoch: 5  Avg accuracy: 0.810 Avg loss: 0.741\n",
      "INFO:root:End of validation on epoch 5\n",
      "INFO:root:Starting learning at epoch 6 in 2023-12-10 00:10:50.711271\n",
      "INFO:root:End learning at epoch 6 in 2023-12-10 02:13:30.585379\n",
      "INFO:root:Starting validation on epoch 6\n",
      "INFO:root:Validation Results - Epoch: 6  Avg accuracy: 0.819 Avg loss: 0.732\n",
      "INFO:root:End of validation on epoch 6\n",
      "INFO:root:Starting learning at epoch 7 in 2023-12-10 02:15:34.055629\n",
      "INFO:root:End learning at epoch 7 in 2023-12-10 04:24:16.267771\n",
      "INFO:root:Starting validation on epoch 7\n",
      "INFO:root:Validation Results - Epoch: 7  Avg accuracy: 0.822 Avg loss: 0.729\n",
      "INFO:root:End of validation on epoch 7\n",
      "INFO:root:Starting learning at epoch 8 in 2023-12-10 05:02:23.879149\n",
      "INFO:root:End learning at epoch 8 in 2023-12-10 06:06:10.701046\n",
      "INFO:root:Starting validation on epoch 8\n",
      "INFO:root:Validation Results - Epoch: 8  Avg accuracy: 0.821 Avg loss: 0.730\n",
      "INFO:root:End of validation on epoch 8\n",
      "INFO:root:Starting learning at epoch 9 in 2023-12-10 06:08:34.332566\n",
      "INFO:root:End learning at epoch 9 in 2023-12-10 06:17:47.782774\n",
      "INFO:root:Starting validation on epoch 9\n",
      "INFO:root:Validation Results - Epoch: 9  Avg accuracy: 0.833 Avg loss: 0.720\n",
      "INFO:root:End of validation on epoch 9\n",
      "INFO:root:Starting learning at epoch 10 in 2023-12-10 06:20:06.262860\n",
      "INFO:root:End learning at epoch 10 in 2023-12-10 07:39:46.011002\n",
      "INFO:root:Starting validation on epoch 10\n",
      "INFO:root:Validation Results - Epoch: 10  Avg accuracy: 0.832 Avg loss: 0.720\n",
      "INFO:root:End of validation on epoch 10\n",
      "INFO:root:Starting learning at epoch 11 in 2023-12-10 08:23:37.255458\n",
      "INFO:root:End learning at epoch 11 in 2023-12-10 09:11:56.338262\n",
      "INFO:root:Starting validation on epoch 11\n",
      "INFO:root:Validation Results - Epoch: 11  Avg accuracy: 0.829 Avg loss: 0.722\n",
      "INFO:root:End of validation on epoch 11\n",
      "INFO:root:Starting learning at epoch 12 in 2023-12-10 09:28:26.935788\n",
      "INFO:root:End learning at epoch 12 in 2023-12-10 11:55:46.579034\n",
      "INFO:root:Starting validation on epoch 12\n",
      "INFO:root:Validation Results - Epoch: 12  Avg accuracy: 0.837 Avg loss: 0.715\n",
      "INFO:root:End of validation on epoch 12\n",
      "INFO:root:Starting learning at epoch 13 in 2023-12-10 12:31:24.207443\n",
      "INFO:root:End learning at epoch 13 in 2023-12-10 13:32:15.950729\n",
      "INFO:root:Starting validation on epoch 13\n",
      "INFO:root:Validation Results - Epoch: 13  Avg accuracy: 0.840 Avg loss: 0.712\n",
      "INFO:root:End of validation on epoch 13\n",
      "INFO:root:Starting learning at epoch 14 in 2023-12-10 13:32:27.730133\n",
      "INFO:root:End learning at epoch 14 in 2023-12-10 15:16:40.857448\n",
      "INFO:root:Starting validation on epoch 14\n",
      "INFO:root:Validation Results - Epoch: 14  Avg accuracy: 0.841 Avg loss: 0.710\n",
      "INFO:root:End of validation on epoch 14\n",
      "INFO:root:Starting learning at epoch 15 in 2023-12-10 15:27:45.659964\n",
      "INFO:root:End learning at epoch 15 in 2023-12-10 15:54:30.621813\n",
      "INFO:root:Starting validation on epoch 15\n",
      "INFO:root:Validation Results - Epoch: 15  Avg accuracy: 0.840 Avg loss: 0.711\n",
      "INFO:root:End of validation on epoch 15\n",
      "INFO:root:Starting learning at epoch 16 in 2023-12-10 16:34:58.995818\n",
      "INFO:root:End learning at epoch 16 in 2023-12-10 18:55:50.718292\n",
      "INFO:root:Starting validation on epoch 16\n",
      "INFO:root:Validation Results - Epoch: 16  Avg accuracy: 0.845 Avg loss: 0.707\n",
      "INFO:root:End of validation on epoch 16\n",
      "INFO:root:Starting learning at epoch 17 in 2023-12-10 19:38:03.322146\n",
      "INFO:root:End learning at epoch 17 in 2023-12-10 21:31:01.473854\n",
      "INFO:root:Starting validation on epoch 17\n",
      "INFO:root:Validation Results - Epoch: 17  Avg accuracy: 0.846 Avg loss: 0.704\n",
      "INFO:root:End of validation on epoch 17\n",
      "INFO:root:Starting learning at epoch 18 in 2023-12-10 21:40:02.228720\n",
      "INFO:root:End learning at epoch 18 in 2023-12-10 23:41:58.745891\n",
      "INFO:root:Starting validation on epoch 18\n",
      "INFO:root:Validation Results - Epoch: 18  Avg accuracy: 0.837 Avg loss: 0.716\n",
      "INFO:root:End of validation on epoch 18\n",
      "INFO:root:Starting learning at epoch 19 in 2023-12-11 00:07:09.099048\n"
     ]
    }
   ],
   "source": [
    "trainer.run(train_dataloader, max_epochs=EPOCHS)"
   ],
   "metadata": {
    "collapsed": false,
    "is_executing": true,
    "ExecuteTime": {
     "start_time": "2023-12-09T18:27:46.955130Z"
    }
   },
   "id": "232d9cbfec3d0e69"
  },
  {
   "cell_type": "code",
   "execution_count": null,
   "outputs": [],
   "source": [],
   "metadata": {
    "collapsed": false,
    "is_executing": true
   },
   "id": "3adf72d08684ec5b"
  },
  {
   "cell_type": "code",
   "execution_count": null,
   "outputs": [],
   "source": [
    "from matplotlib import pyplot as plt\n",
    "\n",
    "# Графики обучения\n",
    "plt.figure(figsize=(10, 5))\n",
    "plt.subplot(1, 2, 1)\n",
    "plt.plot(train_loss_values, label='Training Loss')\n",
    "plt.plot(validation_loss_values, label='Validation Loss')\n",
    "plt.xlabel('Epochs')\n",
    "plt.ylabel('Loss')\n",
    "plt.legend()\n",
    "\n",
    "plt.subplot(1, 2, 2)\n",
    "plt.plot(validation_accuracy_values, label='Validation Accuracy', color='red')\n",
    "plt.xlabel('Epochs')\n",
    "plt.ylabel('Accuracy')\n",
    "plt.legend()\n",
    "\n",
    "plt.tight_layout()\n",
    "plt.show()"
   ],
   "metadata": {
    "collapsed": false,
    "is_executing": true
   },
   "id": "cb1d0dbd6d4735aa"
  },
  {
   "cell_type": "code",
   "execution_count": null,
   "outputs": [],
   "source": [],
   "metadata": {
    "collapsed": false,
    "is_executing": true
   },
   "id": "5123afea665da494"
  },
  {
   "cell_type": "code",
   "execution_count": null,
   "outputs": [],
   "source": [
    "import torch\n",
    "import random\n",
    "\n",
    "\n",
    "# устанавливаем seed, чтобы результаты не изменялись при не изменение чего-либо\n",
    "torch.manual_seed(666)\n",
    "random.seed(666)\n",
    "\n",
    "DEVICE = torch.device(\"cuda\" if torch.cuda.is_available() else \"cpu\")\n",
    "\n",
    "test_model = NoMaskModel()\n",
    "test_model = test_model.to(DEVICE)\n",
    "test_model.load_state_dict(torch.load(\"models/model.pt\"))\n",
    "test_dataset = ImageToNumDataset(\"data/test_images\", transform=transform)"
   ],
   "metadata": {
    "collapsed": false,
    "is_executing": true
   },
   "id": "f336c2cc32c851fe"
  },
  {
   "cell_type": "code",
   "execution_count": null,
   "outputs": [],
   "source": [
    "import csv\n",
    "from IPython.display import clear_output\n",
    "\n",
    "test_model.eval()\n",
    "len_dataset = len(test_dataset)\n",
    "with open(\"answer.csv\", \"w\") as file:\n",
    "    writer = csv.writer(file, delimiter=\",\")\n",
    "    writer.writerow([\"id\", \"target_feature\"])\n",
    "    for index, image in enumerate(test_dataset):\n",
    "        with torch.no_grad():\n",
    "            pred_y = test_model(image.unsqueeze(0))\n",
    "        answer = max(((n, i) for i, n in enumerate(pred_y[0])), key=lambda x: x[0])[1]\n",
    "        writer.writerow([index, answer])\n",
    "        if index % 10 == 0 or index % 10 == 9:\n",
    "            print(f\"{(index / len_dataset) * 100:.2f}%\")\n",
    "print(\"100%\")"
   ],
   "metadata": {
    "collapsed": false,
    "is_executing": true
   },
   "id": "e5f69f0d8daecbd5"
  },
  {
   "cell_type": "code",
   "execution_count": null,
   "outputs": [],
   "source": [],
   "metadata": {
    "collapsed": false,
    "is_executing": true
   },
   "id": "d2eca2918f0d61d6"
  }
 ],
 "metadata": {
  "kernelspec": {
   "display_name": "Python 3",
   "language": "python",
   "name": "python3"
  },
  "language_info": {
   "codemirror_mode": {
    "name": "ipython",
    "version": 2
   },
   "file_extension": ".py",
   "mimetype": "text/x-python",
   "name": "python",
   "nbconvert_exporter": "python",
   "pygments_lexer": "ipython2",
   "version": "2.7.6"
  }
 },
 "nbformat": 4,
 "nbformat_minor": 5
}
